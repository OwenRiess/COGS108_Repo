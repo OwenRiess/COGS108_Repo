{
  "cells": [
    {
      "cell_type": "markdown",
      "metadata": {
        "id": "ilZAPB6XavXn"
      },
      "source": [
        "# COGS 108 - Project Proposal"
      ]
    },
    {
      "cell_type": "markdown",
      "metadata": {
        "id": "JOZ6mE-tavXp"
      },
      "source": [
        "# Names\n",
        "\n",
        "- Eric Chen\n",
        "- Vincent Huynh\n",
        "- Varun Pillai\n",
        "- Owen Riess\n",
        "- Jeremy Wong"
      ]
    },
    {
      "cell_type": "markdown",
      "metadata": {
        "id": "RVcDOroSavXp"
      },
      "source": [
        "# Research Question"
      ]
    },
    {
      "cell_type": "markdown",
      "metadata": {
        "id": "wbLsaAqPavXq"
      },
      "source": [
        "-  Include a specific, clear data science question.\n",
        "-  Make sure what you're measuring (variables) to answer the question is clear\n",
        "\n",
        "This question should be specific, answerable with data, and clear. A general question with specific subquestions is permitted. (1-2 sentences). When we read this we should know clearly what your project will be about\n",
        "\n"
      ]
    },
    {
      "cell_type": "markdown",
      "metadata": {
        "id": "aZ_SrR22avXq"
      },
      "source": [
        "## Background and Prior Work"
      ]
    },
    {
      "cell_type": "markdown",
      "metadata": {
        "id": "YEWPNzjzavXq"
      },
      "source": [
        "<!--\n",
        "- Include a general introduction to your topic\n",
        "- Include explanation of what work has been done previously\n",
        "- Include citations or links to previous work\n",
        "\n",
        "This section will present the background and context of your topic and question in a few paragraphs. Include a general introduction to your topic and then describe what information you currently know about the topic after doing your initial research. Include references to other projects who have asked similar questions or approached similar problems. Explain what others have learned in their projects.\n",
        "\n",
        "Find some relevant prior work, and reference those sources, summarizing what each did and what they learned. Even if you think you have a totally novel question, find the most similar prior work that you can and discuss how it relates to your project.\n",
        "\n",
        "References can be research publications, but they need not be. Blogs, GitHub repositories, company websites, etc., are all viable references if they are relevant to your project. It must be clear which information comes from which references. (2-3 paragraphs, including at least 2 references)\n",
        "\n",
        " **Use inline citation through HTML footnotes to specify which references support which statements**\n",
        "\n",
        "For example: After government genocide in the 20th century, real birds were replaced with surveillance drones designed to look just like birds.<a name=\"cite_ref-1\"></a>[<sup>1</sup>](#cite_note-1) Use a minimum of 2 or 3 citations, but we prefer more.<a name=\"cite_ref-2\"></a>[<sup>2</sup>](#cite_note-2) You need enough to fully explain and back up important facts.\n",
        "\n",
        "Note that if you click a footnote number in the paragraph above it will transport you to the proper entry in the footnotes list below.  And if you click the ^ in the footnote entry, it will return you to the place in the main text where the footnote is made.\n",
        "\n",
        "To understand the HTML here, `<a name=\"#...\"> </a>` is a tag that allows you produce a named reference for a given location.  Markdown has the construciton `[text with hyperlink](#named reference)` that will produce a clickable link that transports you the named reference.\n",
        "\n",
        "1. <a name=\"cite_note-1\"></a> [^](#cite_ref-1) Lorenz, T. (9 Dec 2021) Birds Aren’t Real, or Are They? Inside a Gen Z Conspiracy Theory. *The New York Times*. https://www.nytimes.com/2021/12/09/technology/birds-arent-real-gen-z-misinformation.html\n",
        "2. <a name=\"cite_note-2\"></a> [^](#cite_ref-2) Also refs should be important to the background, not some randomly chosen vaguely related stuff. Include a web link if possible in refs as above.\n",
        "\n",
        " -->\n",
        "The state of California, \"The Cornucopia of the World,\" is known not only for its agricultural exports, which account for \"over a third of the country's vegetables and over three-quarters of the country's fruits and nuts,\"<a name=\"cdfa_ref\"></a>[<sup>1</sup>](#cdfa_note) but also for its consistent struggle with drought. The California-Nevada region, especially the southern and eastern parts of the region, are experiencing moderate to exception levels of drought, with 44.05% of the total region in drought as of April 8th, 2025.<a name=\"drought_ref\"></a>[<sup>2</sup>](#drought_note) Drought, along with other environmental factors such as wind speed, solar radiation, and soil type, impact irrigation need in different agricultural settings. These factors have been and continue to be examined due to their effects on crop yield and thus food supply and the economy.\n",
        "\n",
        "One study performed by A. Andales at Colorado State University (CSU) Extension explored the effects of weather on irrigation needs, focusing on precipitation (P) and evapotranspiration (ET) as the two primary weather-related variables that determine irrigation needs.<a name=\"weather_ref\"></a>[<sup>3</sup>](#weather_note) Using data obtained from the Colorado Agricultural Meteorological Network (CoAgMet), Andeles examines the \"Probability of exceedance,\" which is the estimated probability that a certain value, in this case, ET, P, or (ET - P), would be exceeded to determine the amount of water needed for irrigation for a certain level of risk. These plots against probability of exceedance provide a greater understanding of how evapotranspiration and precipitation, which are both highly-influenced by weather, impact irrigation needs in the form of probability density. Weather plays a major role in determining irrigation requirements; however, soil type also greatly affects the frequency and volume of water needed for irrigation.\n",
        "\n",
        "Michigan State University Extension examined how growers decide \"how much, how long, how fast and how often they need to irrigate.\"<a name=\"soil_ref\"></a>[<sup>4</sup>](#soil_note) The researchers studied different properties of sand, silt, and clay soils and how those properties affected irrigation strategies to promote efficient water use. They found that water permeates slowly in clay soils but is also retained for longer periods. Conversely, water permeates quickly in sandy soils but is retained for short periods. These two observations pointed to the need to water clay soils slowly, for more time, but less frequently, while sandy soils would be watered quickly, for less time, and more frequently. In the context of our project, this source provides useful high-level information on how soil type influences irrigation, but provides no relevant quantitative data.\n",
        "\n",
        "1. <a name=\"cdfa_note\"></a> [^](#cdfa_ref) California Department of Food and Agriculture. California's Top 10 Agricultural Commodities. https://www.cdfa.ca.gov/Statistics/\n",
        "2. <a name=\"drought_note\"></a> [^](#drought_ref) National Integrated Drought Information System. Drought Status Update for California-Nevada. https://www.drought.gov/drought-status-updates/drought-status-update-california-nevada-2025-04-10\n",
        "3. <a name=\"weather_note\"></a> [^](#weather_ref) Colorado State University Extension. Effects of Weather on Irrigation Requirements. https://extension.colostate.edu/topic-areas/agriculture/effects-of-weather-on-irrigation-requirements-4-721/#:~:text=The%20amount%20and%20timing%20of,growth%20factors%20are%20non%2Dlimiting\n",
        "4. <a name=\"soil_note\"></a> [^](#soil_ref) Michigan State University Extension. Soil type influences irrigation strategy. https://www.canr.msu.edu/news/soil_type_influences_irrigation_strategy"
      ]
    },
    {
      "cell_type": "markdown",
      "metadata": {
        "id": "tEJdPac6avXs"
      },
      "source": [
        "# Hypothesis\n"
      ]
    },
    {
      "cell_type": "markdown",
      "metadata": {
        "id": "omsOJ__davXs"
      },
      "source": [
        "\n",
        "- Put your hypothesis here, this is different than your question. This what you think the answer will be\n",
        "- Ensure that this hypothesis is clear to readers\n",
        "- Explain why you think this will be the outcome (what was your thinking?)\n",
        "\n",
        "If you question is \"What is the association between X and Y\" then a hypothesis might be \"We predict a strong correlation between X and Y\" or you might predict no correlation or any other possible relationship. Briefly explain your thinking. (2-3 sentences)"
      ]
    },
    {
      "cell_type": "markdown",
      "metadata": {
        "id": "b3zSsEAVavXs"
      },
      "source": [
        "# Data"
      ]
    },
    {
      "cell_type": "markdown",
      "metadata": {
        "id": "3eFLlDIdavXs"
      },
      "source": [
        "1. Explain what the **ideal** dataset you would want to answer this question. (This should include: What variables? How many observations? Who/what/how would these data be collected? How would these data be stored/organized?)\n",
        "1. Search for potential **real** datasets that could provide you with something useful for this project.  You do not have to find every piece of data you will use, but you do need to have demonstrated some idea that (a) this data is gettable and (b) that this data may be different from what your ideal is.\n",
        "\n",
        "The ideal dataset for this project would have following variables:\n",
        "\n",
        "**Environmental variables:**\n",
        "- Evapotranspiration (mm/day)\n",
        "- Precipitation (mm)\n",
        "- Temperature (°C)\n",
        "- Humidity (%)\n",
        "- Soil Type\n",
        "- Soil Water Holding Capacity (mm)\n",
        "\n",
        "**Agricultural variables:**\n",
        "- Crop Type\n",
        "- Planting and Harvest Dates\n",
        "- Field Location\n",
        "- Agricultural Zone\n",
        "\n",
        "**Irrigation Need Metrics:**\n",
        "- Water Deficit (mm)\n",
        "- Irrigation Need Frequency\n",
        "- Crop-Specific Irrigation Need Frequency\n",
        "\n",
        "The data for this project would be collected from a combination of government agencies, satellite-based remote sensing platforms, and field-level reports. Key environmental variables such as evapotranspiration, precipitation, temperature, and humidity would be obtained from sources like the California Irrigation Management Information System (CIMIS), the National Weather Service (NOAA), and satellite platforms such as OpenET. Soil characteristics, including soil type and water holding capacity, can be gathered from USDA soil databases, such as the Soil Survey Geographic Database (SSURGO).\n",
        "\n",
        "Agricultural variables like crop type, planting dates, and irrigation need frequency could be collected through farmer self-reports. Water deficit and irrigation metrics could also be provided by local water districts or state agencies like the California Department of Water Resources (DWR).\n",
        "\n",
        "Data would be collected on a field-by-field basis, ideally with geographic identifiers and time stamps to capture seasonal patterns. All data would be organized in a structured tabular format, with each row representing a single field observation for a specific time period , and columns representing the measured variables.\n",
        "\n"
      ]
    },
    {
      "cell_type": "markdown",
      "metadata": {
        "id": "UzpUMLC3avXt"
      },
      "source": [
        "# Ethics & Privacy"
      ]
    },
    {
      "cell_type": "markdown",
      "metadata": {
        "id": "t88lPAVyavXt"
      },
      "source": [
        "- Thoughtful discussion of ethical concerns included\n",
        "- Ethical concerns consider the whole data science process (question asked, data collected, data being used, the bias in data, analysis, post-analysis, etc.)\n",
        "- How your group handled bias/ethical concerns clearly described\n",
        "\n",
        "Acknowledge and address any ethics & privacy related issues of your question(s), proposed dataset(s), and/or analyses. Use the information provided in lecture to guide your group discussion and thinking. If you need further guidance, check out [Deon's Ethics Checklist](http://deon.drivendata.org/#data-science-ethics-checklist). In particular:\n",
        "\n",
        "- Are there any biases/privacy/terms of use issues with the data you propsed?\n",
        "- Are there potential biases in your dataset(s), in terms of who it composes, and how it was collected, that may be problematic in terms of it allowing for equitable analysis? (For example, does your data exclude particular populations, or is it likely to reflect particular human biases in a way that could be a problem?)\n",
        "- How will you set out to detect these specific biases before, during, and after/when communicating your analysis?\n",
        "- Are there any other issues related to your topic area, data, and/or analyses that are potentially problematic in terms of data privacy and equitable impact?\n",
        "- How will you handle issues you identified?"
      ]
    },
    {
      "cell_type": "markdown",
      "metadata": {
        "id": "SuB4GKgtavXt"
      },
      "source": [
        "# Team Expectations"
      ]
    },
    {
      "cell_type": "markdown",
      "metadata": {
        "id": "CkPVmGogavXt"
      },
      "source": [
        "\n",
        "Read over the [COGS108 Team Policies](https://github.com/COGS108/Projects/blob/master/COGS108_TeamPolicies.md) individually. Then, include your group’s expectations of one another for successful completion of your COGS108 project below. Discuss and agree on what all of your expectations are. Discuss how your team will communicate throughout the quarter and consider how you will communicate respectfully should conflicts arise. By including each member’s name above and by adding their name to the submission, you are indicating that you have read the COGS108 Team Policies, accept your team’s expectations below, and have every intention to fulfill them. These expectations are for your team’s use and benefit — they won’t be graded for their details.\n",
        "\n",
        "* *Team Expectation 1*\n",
        "* *Team Expectation 2*\n",
        "* *Team Expecation 3*\n",
        "* ..."
      ]
    },
    {
      "cell_type": "markdown",
      "metadata": {
        "id": "TRTfzPN5avXt"
      },
      "source": [
        "# Project Timeline Proposal"
      ]
    },
    {
      "cell_type": "markdown",
      "metadata": {
        "id": "G2UsACccavXt"
      },
      "source": [
        "Specify your team's specific project timeline. An example timeline has been provided. Changes the dates, times, names, and details to fit your group's plan.\n",
        "\n",
        "If you think you will need any special resources or training outside what we have covered in COGS 108 to solve your problem, then your proposal should state these clearly. For example, if you have selected a problem that involves implementing multiple neural networks, please state this so we can make sure you know what you’re doing and so we can point you to resources you will need to implement your project. Note that you are not required to use outside methods.\n",
        "\n",
        "\n",
        "\n",
        "| Meeting Date  | Meeting Time| Completed Before Meeting  | Discuss at Meeting |\n",
        "|---|---|---|---|\n",
        "| 1/20  |  1 PM | Read & Think about COGS 108 expectations; brainstorm topics/questions  | Determine best form of communication; Discuss and decide on final project topic; discuss hypothesis; begin background research |\n",
        "| 1/26  |  10 AM |  Do background research on topic | Discuss ideal dataset(s) and ethics; draft project proposal |\n",
        "| 2/1  | 10 AM  | Edit, finalize, and submit proposal; Search for datasets  | Discuss Wrangling and possible analytical approaches; Assign group members to lead each specific part   |\n",
        "| 2/14  | 6 PM  | Import & Wrangle Data (Ant Man); EDA (Hulk) | Review/Edit wrangling/EDA; Discuss Analysis Plan   |\n",
        "| 2/23  | 12 PM  | Finalize wrangling/EDA; Begin Analysis (Iron Man; Thor) | Discuss/edit Analysis; Complete project check-in |\n",
        "| 3/13  | 12 PM  | Complete analysis; Draft results/conclusion/discussion (Wasp)| Discuss/edit full project |\n",
        "| 3/20  | Before 11:59 PM  | NA | Turn in Final Project & Group Project Surveys |"
      ]
    }
  ],
  "metadata": {
    "kernelspec": {
      "display_name": "Python 3 (ipykernel)",
      "language": "python",
      "name": "python3"
    },
    "language_info": {
      "codemirror_mode": {
        "name": "ipython",
        "version": 3
      },
      "file_extension": ".py",
      "mimetype": "text/x-python",
      "name": "python",
      "nbconvert_exporter": "python",
      "pygments_lexer": "ipython3",
      "version": "3.9.7"
    },
    "colab": {
      "provenance": []
    }
  },
  "nbformat": 4,
  "nbformat_minor": 0
}